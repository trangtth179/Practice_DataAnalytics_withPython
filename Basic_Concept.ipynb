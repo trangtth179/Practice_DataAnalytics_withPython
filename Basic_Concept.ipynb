{
 "cells": [
  {
   "cell_type": "code",
   "execution_count": 10,
   "id": "3f2616e9",
   "metadata": {},
   "outputs": [],
   "source": [
    "import numpy as np\n",
    "dat = [45, 56, 75, 38, 79, 65, 13, 99, 55]"
   ]
  },
  {
   "cell_type": "code",
   "execution_count": 11,
   "id": "3ffdd30d",
   "metadata": {
    "scrolled": true
   },
   "outputs": [
    {
     "name": "stdout",
     "output_type": "stream",
     "text": [
      "58.333333333333336\n",
      "56.0\n"
     ]
    }
   ],
   "source": [
    "#Mean, median\n",
    "print(np.mean(dat))\n",
    "print(np.median(dat))"
   ]
  },
  {
   "cell_type": "code",
   "execution_count": 13,
   "id": "a6315909",
   "metadata": {},
   "outputs": [
    {
     "name": "stdout",
     "output_type": "stream",
     "text": [
      "23.72527953236566\n",
      "562.8888888888889\n"
     ]
    }
   ],
   "source": [
    "#Standard deviation, variance\n",
    "print(np.std(dat))\n",
    "print(np.var(dat))"
   ]
  },
  {
   "cell_type": "code",
   "execution_count": 16,
   "id": "ef274621",
   "metadata": {},
   "outputs": [
    {
     "name": "stdout",
     "output_type": "stream",
     "text": [
      "76.6\n",
      "75.0\n"
     ]
    }
   ],
   "source": [
    "#Percentile\n",
    "print(np.percentile(dat,80))\n",
    "print(np.percentile(dat,75))"
   ]
  }
 ],
 "metadata": {
  "kernelspec": {
   "display_name": "Python 3 (ipykernel)",
   "language": "python",
   "name": "python3"
  },
  "language_info": {
   "codemirror_mode": {
    "name": "ipython",
    "version": 3
   },
   "file_extension": ".py",
   "mimetype": "text/x-python",
   "name": "python",
   "nbconvert_exporter": "python",
   "pygments_lexer": "ipython3",
   "version": "3.9.6"
  }
 },
 "nbformat": 4,
 "nbformat_minor": 5
}
