{
 "cells": [
  {
   "cell_type": "code",
   "execution_count": 2,
   "id": "4970749c",
   "metadata": {},
   "outputs": [],
   "source": [
    "import pandas as pd\n",
    "import numpy as np\n",
    "import matplotlib.pyplot as plt\n",
    "import statsmodels.api as sm"
   ]
  },
  {
   "cell_type": "code",
   "execution_count": 4,
   "id": "83ba1d32",
   "metadata": {},
   "outputs": [],
   "source": [
    "plt.rcParams['figure.figsize'] = (10,8)\n",
    "plt.rcParams['figure.dpi'] = 200"
   ]
  },
  {
   "cell_type": "code",
   "execution_count": 6,
   "id": "f9be3508",
   "metadata": {
    "scrolled": true
   },
   "outputs": [
    {
     "name": "stdout",
     "output_type": "stream",
     "text": [
      "    const  age\n",
      "0     1.0   22\n",
      "1     1.0   25\n",
      "2     1.0   47\n",
      "3     1.0   52\n",
      "4     1.0   46\n",
      "5     1.0   56\n",
      "6     1.0   55\n",
      "7     1.0   60\n",
      "8     1.0   62\n",
      "9     1.0   61\n",
      "10    1.0   18\n",
      "11    1.0   28\n",
      "12    1.0   27\n",
      "13    1.0   29\n",
      "14    1.0   49\n",
      "15    1.0   55\n",
      "16    1.0   25\n",
      "17    1.0   58\n",
      "18    1.0   19\n",
      "19    1.0   18\n",
      "20    1.0   21\n",
      "21    1.0   26\n",
      "22    1.0   40\n",
      "23    1.0   45\n",
      "24    1.0   50\n",
      "25    1.0   54\n",
      "26    1.0   23\n"
     ]
    }
   ],
   "source": [
    "df = pd.read_csv('./data/Insurance.csv')\n",
    "y = df['bought_insurance']\n",
    "x = df['age']\n",
    "x = sm.add_constant(x)\n",
    "print(x)"
   ]
  },
  {
   "cell_type": "code",
   "execution_count": 10,
   "id": "7e99677f",
   "metadata": {},
   "outputs": [
    {
     "name": "stdout",
     "output_type": "stream",
     "text": [
      "Optimization terminated successfully.\n",
      "         Current function value: 0.377894\n",
      "         Iterations 6\n",
      "                           Logit Regression Results                           \n",
      "==============================================================================\n",
      "Dep. Variable:       bought_insurance   No. Observations:                   27\n",
      "Model:                          Logit   Df Residuals:                       25\n",
      "Method:                           MLE   Df Model:                            1\n",
      "Date:                Sun, 01 Aug 2021   Pseudo R-squ.:                  0.4543\n",
      "Time:                        11:18:30   Log-Likelihood:                -10.203\n",
      "converged:                       True   LL-Null:                       -18.696\n",
      "Covariance Type:            nonrobust   LLR p-value:                 3.764e-05\n",
      "==============================================================================\n",
      "                 coef    std err          z      P>|z|      [0.025      0.975]\n",
      "------------------------------------------------------------------------------\n",
      "const         -5.2729      1.814     -2.907      0.004      -8.828      -1.718\n",
      "age            0.1357      0.044      3.118      0.002       0.050       0.221\n",
      "==============================================================================\n"
     ]
    }
   ],
   "source": [
    "model = sm.Logit(y,x)\n",
    "results = model.fit()\n",
    "coefs = results.params\n",
    "print(results.summary())"
   ]
  },
  {
   "cell_type": "code",
   "execution_count": 12,
   "id": "e36195b8",
   "metadata": {
    "scrolled": true
   },
   "outputs": [
    {
     "name": "stdout",
     "output_type": "stream",
     "text": [
      "0     0.092201\n",
      "1     0.132402\n",
      "2     0.751382\n",
      "3     0.856264\n",
      "4     0.725174\n",
      "5     0.911128\n",
      "6     0.899508\n",
      "7     0.946363\n",
      "8     0.958585\n",
      "9     0.952849\n",
      "10    0.055728\n",
      "11    0.186529\n",
      "12    0.166805\n",
      "13    0.208004\n",
      "14    0.798579\n",
      "15    0.899508\n",
      "16    0.132402\n",
      "17    0.930793\n",
      "18    0.063315\n",
      "19    0.055728\n",
      "20    0.081453\n",
      "21    0.148785\n",
      "22    0.538907\n",
      "23    0.697316\n",
      "24    0.819529\n",
      "25    0.886557\n",
      "26    0.104207\n",
      "dtype: float64\n"
     ]
    }
   ],
   "source": [
    "prob_matrix = results.predict(x)\n",
    "print (prob_matrix)"
   ]
  },
  {
   "cell_type": "code",
   "execution_count": 14,
   "id": "f5226b65",
   "metadata": {},
   "outputs": [
    {
     "name": "stdout",
     "output_type": "stream",
     "text": [
      "0     0\n",
      "1     0\n",
      "2     1\n",
      "3     1\n",
      "4     1\n",
      "5     1\n",
      "6     1\n",
      "7     1\n",
      "8     1\n",
      "9     1\n",
      "10    0\n",
      "11    0\n",
      "12    0\n",
      "13    0\n",
      "14    1\n",
      "15    1\n",
      "16    0\n",
      "17    1\n",
      "18    0\n",
      "19    0\n",
      "20    0\n",
      "21    0\n",
      "22    1\n",
      "23    1\n",
      "24    1\n",
      "25    1\n",
      "26    0\n",
      "dtype: int32\n"
     ]
    }
   ],
   "source": [
    "pred_values = (results.predict(x) >= 0.5).astype(int) \n",
    "print(pred_values)"
   ]
  }
 ],
 "metadata": {
  "kernelspec": {
   "display_name": "Python 3 (ipykernel)",
   "language": "python",
   "name": "python3"
  },
  "language_info": {
   "codemirror_mode": {
    "name": "ipython",
    "version": 3
   },
   "file_extension": ".py",
   "mimetype": "text/x-python",
   "name": "python",
   "nbconvert_exporter": "python",
   "pygments_lexer": "ipython3",
   "version": "3.9.6"
  }
 },
 "nbformat": 4,
 "nbformat_minor": 5
}
